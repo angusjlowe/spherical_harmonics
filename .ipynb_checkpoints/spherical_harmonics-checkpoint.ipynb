{
 "cells": [
  {
   "cell_type": "markdown",
   "metadata": {},
   "source": [
    "## Visualizing solutions to simultaneous eigenstates of orbital angular momentum"
   ]
  },
  {
   "cell_type": "code",
   "execution_count": 1,
   "metadata": {
    "collapsed": false,
    "scrolled": true
   },
   "outputs": [],
   "source": [
    "%matplotlib inline\n",
    "'''\n",
    "### Probability Density From Solutions to the Eigenstate of Angular Momentum: Spherical Harmonics\n",
    "\n",
    "Angus Lowe\n",
    "Nanyang Technological University\n",
    "2017\n",
    "\n",
    "'''\n",
    "from mpl_toolkits.mplot3d import Axes3D\n",
    "import matplotlib.pyplot as plt\n",
    "import numpy as np"
   ]
  },
  {
   "cell_type": "markdown",
   "metadata": {},
   "source": [
    "Given l and m quantum numbers the following code will plot the solid contour of the 3-d probability density funcction with the z-axis pointing in the direction of the observer."
   ]
  },
  {
   "cell_type": "code",
   "execution_count": 2,
   "metadata": {
    "collapsed": false
   },
   "outputs": [],
   "source": [
    "#recursive derivative\n",
    "def recursive_deriv(f,k):\n",
    "    def compute(x,dx=0.001):\n",
    "        return (f(x+dx) - f(x))/dx\n",
    "    if(k==0):\n",
    "        return f\n",
    "    if(k==1):\n",
    "        return compute\n",
    "    else:\n",
    "        return recursive_deriv(compute,k-1)\n",
    "\n",
    "#legendre polynomials\n",
    "def legendre(x,n):\n",
    "    def f(x):\n",
    "        a = (x**2-1)**n\n",
    "        return a\n",
    "    df = recursive_deriv(f,n)\n",
    "    p_n = 1.0/(2**n*np.math.factorial(n))*df(x)\n",
    "    return p_n\n",
    "\n",
    "def compute_theta_term(theta,l,m):\n",
    "    def f(x):\n",
    "        a = legendre(x,l)\n",
    "        return a\n",
    "    df = recursive_deriv(f,m)\n",
    "    result = (-1)**m*(1-np.cos(theta)**2)**(m/2)*df(np.cos(theta)) #earlier made the mistake of assuming m is power - it has a meaning\n",
    "    return result\n",
    "\n",
    "def compute_phi_term(phi,m):\n",
    "    return np.exp(1j*m*phi)\n",
    "\n",
    "def compute_factor(l,m):\n",
    "    a = (-1)**m\n",
    "    s = (2*l+1)*np.math.factorial(l-m)\n",
    "    t = 4*np.pi*np.math.factorial(l+m)\n",
    "    b = np.sqrt(s/t)\n",
    "    return a*b\n",
    "\n",
    "\n",
    "def Y_l_m(theta,phi,l,m):\n",
    "    a = compute_factor(l,m)\n",
    "    b = compute_theta_term(theta,l,m)\n",
    "    c = compute_phi_term(phi,m)    \n",
    "    if(m == 0):\n",
    "        return a*legendre(np.cos(theta),l)*c\n",
    "    else:\n",
    "        return a*b*c\n",
    "def draw(l,m):\n",
    "    if(m<-l or m>l):\n",
    "        print \"Invalid quantum numbers\"\n",
    "    else:\n",
    "        theta, phi = np.linspace(0, 2 * np.pi, 50), np.linspace(-np.pi, np.pi, 50)\n",
    "        THETA, PHI = np.meshgrid(theta, phi)\n",
    "        R = np.real(np.square(Y_l_m(THETA,PHI,l,m)))\n",
    "        X = R*np.sin(THETA) * np.cos(PHI)\n",
    "        Y = R*np.sin(THETA) * np.sin(PHI)\n",
    "        Z = R * np.cos(THETA)\n",
    "\n",
    "        fig = plt.figure()\n",
    "        #ax = fig.add_subplot(111, projection='3d')   \n",
    "        contour = plt.contourf(X,Y,Z, colors=('#afeeee', '#afe542', '#feff45', '#af0eee'))\n",
    "\n",
    "        #plot = ax.plot_surface(\n",
    "        #    X, Y, Z, rstride=1, cstride=1, cmap=plt.get_cmap('jet'),\n",
    "        #    linewidth=0, antialiased=False, alpha=0.5)\n",
    "\n",
    "        plt.show()\n",
    "\n"
   ]
  },
  {
   "cell_type": "code",
   "execution_count": 3,
   "metadata": {
    "collapsed": false
   },
   "outputs": [
    {
     "data": {
      "image/png": "[encoded data removed]",
      "text/plain": [
       "<matplotlib.figure.Figure at 0xb4e2ac8>"
      ]
     },
     "metadata": {},
     "output_type": "display_data"
    }
   ],
   "source": [
    "draw(2,1)"
   ]
  }
 ],
 "metadata": {
  "kernelspec": {
   "display_name": "Python 2",
   "language": "python",
   "name": "python2"
  },
  "language_info": {
   "codemirror_mode": {
    "name": "ipython",
    "version": 2
   },
   "file_extension": ".py",
   "mimetype": "text/x-python",
   "name": "python",
   "nbconvert_exporter": "python",
   "pygments_lexer": "ipython2",
   "version": "2.7.13"
  }
 },
 "nbformat": 4,
 "nbformat_minor": 2
}
