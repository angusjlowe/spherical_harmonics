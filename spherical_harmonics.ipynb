{
 "cells": [
  {
   "cell_type": "markdown",
   "metadata": {},
   "source": [
    "Visualizing solutions to the eigenstate of angular momentum"
   ]
  },
  {
   "cell_type": "code",
   "execution_count": null,
   "metadata": {
    "collapsed": false
   },
   "outputs": [],
   "source": [
    "%matplotlib notebook \n",
    "'''\n",
    "### Probability Density From Solutions to the Eigenstate of Angular Momentum: Spherical Harmonics\n",
    "\n",
    "Angus Lowe\n",
    "Nanyang Technological University\n",
    "2017\n",
    "\n",
    "'''\n",
    "from mpl_toolkits.mplot3d import Axes3D\n",
    "import matplotlib.pyplot as plt\n",
    "from matplotlib import cm\n",
    "from matplotlib.ticker import LinearLocator, FormatStrFormatter\n",
    "import numpy as np\n",
    "\n",
    "#recursive derivative\n",
    "def recursive_deriv(f,k):\n",
    "    def compute(x,dx=0.001):\n",
    "        return (f(x+dx) - f(x))/dx\n",
    "    if(k==0):\n",
    "        return f\n",
    "    if(k==1):\n",
    "        return compute\n",
    "    else:\n",
    "        return recursive_deriv(compute,k-1)\n",
    "\n",
    "#legendre polynomials\n",
    "def legendre(x,n):\n",
    "    def f(x):\n",
    "        result = (x**2-1)**n\n",
    "        return (x**2-1)**n\n",
    "    df = recursive_deriv(f,n)\n",
    "    p_n = 1.0/(2**n*np.math.factorial(n))*df(x)\n",
    "    return p_n\n",
    "\n",
    "def compute_theta_term(theta,l,m):\n",
    "    cos_term = np.cos(theta)\n",
    "    legendre_term = legendre(cos_term,l)\n",
    "    return legendre_term**m\n",
    "\n",
    "def compute_phi_term(phi,m):\n",
    "    return np.exp(1j*m*phi)\n",
    "\n",
    "def compute_factor(l,m):\n",
    "    a = (-1)**m\n",
    "    s = (2*l+1)*np.math.factorial(l-m)\n",
    "    t = 4*np.pi*np.math.factorial(l+m)\n",
    "    b = np.sqrt(s/t)\n",
    "    return a*b\n",
    "\n",
    "\n",
    "def Y_l_m(theta,phi,l,m):\n",
    "    if(m == 0):\n",
    "        return legendre(np.cos(theta),l)\n",
    "    else:\n",
    "        a = compute_factor(l,m)\n",
    "        b = compute_theta_term(theta,l,m)\n",
    "        c = compute_phi_term(phi,m)\n",
    "        return a*b*c\n",
    "\n",
    "\n",
    "#make data\n",
    "l = int(raw_input(\"l quantum number: \"))\n",
    "m = int(raw_input(\"m quantum number: \"))\n",
    "if(m<-l or m>l):\n",
    "    print \"Invalid quantum numbers\"\n",
    "else:\n",
    "    theta, phi = np.linspace(0, 2 * np.pi, 50), np.linspace(-np.pi, np.pi, 50)\n",
    "    THETA, PHI = np.meshgrid(theta, phi)\n",
    "    R = np.absolute(Y_l_m(THETA,PHI,l,m))\n",
    "    X = R * np.sin(PHI) * np.cos(THETA)\n",
    "    Y = R * np.sin(PHI) * np.sin(THETA)\n",
    "    Z = R * np.cos(PHI)\n",
    "    \n",
    "    fig = plt.figure()\n",
    "    ax = fig.gca(projection='3d')\n",
    "\n",
    "    ax = fig.add_subplot(1,1,1, projection='3d')\n",
    "    plot = ax.plot_surface(\n",
    "        X, Y, Z, rstride=1, cstride=1, cmap=plt.get_cmap('jet'),\n",
    "        linewidth=0, antialiased=False, alpha=0.5)\n",
    "\n",
    "\n",
    "    plt.show()\n"
   ]
  },
  {
   "cell_type": "code",
   "execution_count": null,
   "metadata": {
    "collapsed": true
   },
   "outputs": [],
   "source": []
  }
 ],
 "metadata": {
  "kernelspec": {
   "display_name": "Python 2",
   "language": "python",
   "name": "python2"
  },
  "language_info": {
   "codemirror_mode": {
    "name": "ipython",
    "version": 2
   },
   "file_extension": ".py",
   "mimetype": "text/x-python",
   "name": "python",
   "nbconvert_exporter": "python",
   "pygments_lexer": "ipython2",
   "version": "2.7.13"
  }
 },
 "nbformat": 4,
 "nbformat_minor": 2
}
